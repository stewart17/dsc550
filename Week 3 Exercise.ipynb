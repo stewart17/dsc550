{
 "cells": [
  {
   "cell_type": "markdown",
   "id": "95e29436",
   "metadata": {},
   "source": [
    "# Week 3 Exercise"
   ]
  },
  {
   "cell_type": "code",
   "execution_count": 39,
   "id": "8c2f49ac",
   "metadata": {},
   "outputs": [],
   "source": [
    "import pandas as pd\n",
    "import numpy as np\n",
    "from textblob import TextBlob\n",
    "from pattern.en import sentiment\n",
    "import re\n",
    "import unicodedata\n",
    "import sys\n",
    "import string\n",
    "import nltk\n",
    "from nltk.tokenize import word_tokenize\n",
    "from nltk.corpus import stopwords\n",
    "from nltk.stem.porter import PorterStemmer\n",
    "from sklearn.feature_extraction.text import CountVectorizer,TfidfVectorizer\n"
   ]
  },
  {
   "cell_type": "markdown",
   "id": "aa685af5",
   "metadata": {},
   "source": [
    "## TextBlob Sentiment Analyzer"
   ]
  },
  {
   "cell_type": "markdown",
   "id": "110e78a8",
   "metadata": {},
   "source": [
    "##### Importing Movie Review Data"
   ]
  },
  {
   "cell_type": "code",
   "execution_count": 40,
   "id": "4b4c8058",
   "metadata": {
    "scrolled": true
   },
   "outputs": [
    {
     "data": {
      "text/html": [
       "<div>\n",
       "<style scoped>\n",
       "    .dataframe tbody tr th:only-of-type {\n",
       "        vertical-align: middle;\n",
       "    }\n",
       "\n",
       "    .dataframe tbody tr th {\n",
       "        vertical-align: top;\n",
       "    }\n",
       "\n",
       "    .dataframe thead th {\n",
       "        text-align: right;\n",
       "    }\n",
       "</style>\n",
       "<table border=\"1\" class=\"dataframe\">\n",
       "  <thead>\n",
       "    <tr style=\"text-align: right;\">\n",
       "      <th></th>\n",
       "      <th>id</th>\n",
       "      <th>sentiment</th>\n",
       "      <th>review</th>\n",
       "    </tr>\n",
       "  </thead>\n",
       "  <tbody>\n",
       "    <tr>\n",
       "      <th>0</th>\n",
       "      <td>5814_8</td>\n",
       "      <td>1</td>\n",
       "      <td>With all this stuff going down at the moment w...</td>\n",
       "    </tr>\n",
       "    <tr>\n",
       "      <th>1</th>\n",
       "      <td>2381_9</td>\n",
       "      <td>1</td>\n",
       "      <td>\\The Classic War of the Worlds\\\" by Timothy Hi...</td>\n",
       "    </tr>\n",
       "    <tr>\n",
       "      <th>2</th>\n",
       "      <td>7759_3</td>\n",
       "      <td>0</td>\n",
       "      <td>The film starts with a manager (Nicholas Bell)...</td>\n",
       "    </tr>\n",
       "    <tr>\n",
       "      <th>3</th>\n",
       "      <td>3630_4</td>\n",
       "      <td>0</td>\n",
       "      <td>It must be assumed that those who praised this...</td>\n",
       "    </tr>\n",
       "    <tr>\n",
       "      <th>4</th>\n",
       "      <td>9495_8</td>\n",
       "      <td>1</td>\n",
       "      <td>Superbly trashy and wondrously unpretentious 8...</td>\n",
       "    </tr>\n",
       "  </tbody>\n",
       "</table>\n",
       "</div>"
      ],
      "text/plain": [
       "       id  sentiment                                             review\n",
       "0  5814_8          1  With all this stuff going down at the moment w...\n",
       "1  2381_9          1  \\The Classic War of the Worlds\\\" by Timothy Hi...\n",
       "2  7759_3          0  The film starts with a manager (Nicholas Bell)...\n",
       "3  3630_4          0  It must be assumed that those who praised this...\n",
       "4  9495_8          1  Superbly trashy and wondrously unpretentious 8..."
      ]
     },
     "execution_count": 40,
     "metadata": {},
     "output_type": "execute_result"
    }
   ],
   "source": [
    "# file location\n",
    "file_name = \"labeledTrainData.tsv\"\n",
    "# importing reviews file\n",
    "reviews = pd.read_csv(file_name, sep=\"\\t\")\n",
    "reviews.head()"
   ]
  },
  {
   "cell_type": "markdown",
   "id": "e048c7a9",
   "metadata": {},
   "source": [
    "##### How Many Positive/Negative Reviews?"
   ]
  },
  {
   "cell_type": "code",
   "execution_count": 41,
   "id": "43709ff5",
   "metadata": {
    "scrolled": true
   },
   "outputs": [
    {
     "name": "stdout",
     "output_type": "stream",
     "text": [
      "Number of positive reviews:12500\n",
      "Number of negative reviews:12500\n"
     ]
    }
   ],
   "source": [
    "# find how many positive and negative reviews there are\n",
    "positive = reviews[reviews[\"sentiment\"] == 1].shape[0]\n",
    "negative = reviews[reviews[\"sentiment\"] == 0].shape[0]\n",
    "# print out num of positive/negative reviews\n",
    "print(f\"Number of positive reviews:{positive}\\n\"\n",
    "      f\"Number of negative reviews:{negative}\")"
   ]
  },
  {
   "cell_type": "markdown",
   "id": "7d43d240",
   "metadata": {},
   "source": [
    "##### TextBlob Sentiment Classification"
   ]
  },
  {
   "cell_type": "code",
   "execution_count": 42,
   "id": "eb121f09",
   "metadata": {},
   "outputs": [],
   "source": [
    "# TextBlob classification; positive if polarity >= 0 else negative \n",
    "sentiments = [1  if TextBlob(review).sentiment.polarity >= 0 else 0 for review in reviews.review]"
   ]
  },
  {
   "cell_type": "code",
   "execution_count": 43,
   "id": "e37b03b8",
   "metadata": {
    "scrolled": true
   },
   "outputs": [
    {
     "name": "stdout",
     "output_type": "stream",
     "text": [
      "Number of positive reviews:19017\n",
      "Number of negative reviews:5983\n"
     ]
    }
   ],
   "source": [
    "# add textblob sentiments to df\n",
    "reviews[\"sentiment_tb\"] = sentiments\n",
    "# find how many positive and negative reviews there are\n",
    "positive2 = reviews[reviews[\"sentiment_tb\"] == 1].shape[0]\n",
    "negative2 = reviews[reviews[\"sentiment_tb\"] == 0].shape[0]\n",
    "# print out num of positive/negative reviews\n",
    "print(f\"Number of positive reviews:{positive2}\\n\"\n",
    "      f\"Number of negative reviews:{negative2}\")"
   ]
  },
  {
   "cell_type": "markdown",
   "id": "517ce1bc",
   "metadata": {},
   "source": [
    "##### Accuracy of TextBlob Model"
   ]
  },
  {
   "cell_type": "code",
   "execution_count": 44,
   "id": "1ced80a9",
   "metadata": {},
   "outputs": [
    {
     "name": "stdout",
     "output_type": "stream",
     "text": [
      "Accuracy of TextBlob Sentiments: 68.524%\n"
     ]
    }
   ],
   "source": [
    "# calculate number of correct textblob sentiments\n",
    "correct = reviews[reviews[\"sentiment\"] == reviews[\"sentiment_tb\"]].shape[0]\n",
    "# calclulate accuracy as number of correct guesses / total data\n",
    "accuracy = correct / reviews.shape[0]\n",
    "print(f\"Accuracy of TextBlob Sentiments: {accuracy * 100}%\")"
   ]
  },
  {
   "cell_type": "markdown",
   "id": "8c4daab4",
   "metadata": {},
   "source": [
    "##### Extra Credit Sentiment Analysis Using Pattern."
   ]
  },
  {
   "cell_type": "code",
   "execution_count": 45,
   "id": "92bc9030",
   "metadata": {},
   "outputs": [],
   "source": [
    "# Pattern sentiment analysis; positive if polarity >= 0 else negative\n",
    "sentiments2 = [1 if sentiment(review)[0] >= 0 else 0 for review in reviews.review]"
   ]
  },
  {
   "cell_type": "code",
   "execution_count": 46,
   "id": "61dccf6d",
   "metadata": {
    "scrolled": true
   },
   "outputs": [
    {
     "name": "stdout",
     "output_type": "stream",
     "text": [
      "Number of positive reviews:18918\n",
      "Number of negative reviews:6082\n"
     ]
    }
   ],
   "source": [
    "# add pattern sentiments to df\n",
    "reviews[\"sentiment_pat\"] = sentiments2\n",
    "# find how many positive and negative reviews there are\n",
    "positive3 = reviews[reviews[\"sentiment_pat\"] == 1].shape[0]\n",
    "negative3 = reviews[reviews[\"sentiment_pat\"] == 0].shape[0]\n",
    "# print out num of positive/negative reviews\n",
    "print(f\"Number of positive reviews:{positive3}\\n\"\n",
    "      f\"Number of negative reviews:{negative3}\")"
   ]
  },
  {
   "cell_type": "markdown",
   "id": "e59fd43a",
   "metadata": {},
   "source": [
    "###### Accuracy of Pattern Model"
   ]
  },
  {
   "cell_type": "code",
   "execution_count": 47,
   "id": "dc217038",
   "metadata": {
    "scrolled": true
   },
   "outputs": [
    {
     "name": "stdout",
     "output_type": "stream",
     "text": [
      "Accuracy of Pattern Sentiments: 68.848%\n"
     ]
    }
   ],
   "source": [
    "# calculate number of correct patttern sentiments\n",
    "correct2 = reviews[reviews[\"sentiment\"] == reviews[\"sentiment_pat\"]].shape[0]\n",
    "# calclulate accuracy as number of correct guesses / total data\n",
    "accuracy2 = correct2 / reviews.shape[0]\n",
    "print(f\"Accuracy of Pattern Sentiments: {accuracy2 * 100}%\")"
   ]
  },
  {
   "cell_type": "markdown",
   "id": "8eb1ff5d",
   "metadata": {},
   "source": [
    "## Prepping Text for a Custom Model"
   ]
  },
  {
   "cell_type": "code",
   "execution_count": 48,
   "id": "8b0baf1a",
   "metadata": {},
   "outputs": [],
   "source": [
    "# downloading nltk stopwords\n",
    "# nltk.download(\"stopwords\")"
   ]
  },
  {
   "cell_type": "code",
   "execution_count": 49,
   "id": "a0cc8d81",
   "metadata": {},
   "outputs": [],
   "source": [
    "def clean_reviews(reviews):\n",
    "    \"\"\"prepares series of text data for sentiment analysis by:\n",
    "       converting to lowercase, removing punctuation & special characters, \n",
    "       removing stop words, and stemming words. Joins tokenized words together \n",
    "       at the end for use with Vectorizers\"\"\"\n",
    "    # convert all text to lowercase\n",
    "    lowercase = reviews.str.lower()\n",
    "    # remove punctuation and special characters\n",
    "    clean = [re.sub('[^A-Za-z0-9 ]+', '', review) for review in lowercase]\n",
    "    # english stop words\n",
    "    stop_words = stopwords.words(\"english\")\n",
    "    # tokenize review into words\n",
    "    token_clean = [word_tokenize(review) for review in clean]\n",
    "    # remove stop words\n",
    "    cleaner = [[word for word in review if word not in stop_words ] for review in token_clean]\n",
    "    # stem words\n",
    "    porter = PorterStemmer()\n",
    "    stemmed = [[porter.stem(word) for word in review] for review in cleaner]\n",
    "    # join words back together\n",
    "    cleaned = [\" \".join(review) for review in stemmed]\n",
    "    return cleaned"
   ]
  },
  {
   "cell_type": "code",
   "execution_count": 50,
   "id": "978c0cfa",
   "metadata": {},
   "outputs": [],
   "source": [
    "# create cleaned reviews for use with bag of words & tfidf\n",
    "cleaned = clean_reviews(reviews.review)"
   ]
  },
  {
   "cell_type": "code",
   "execution_count": 51,
   "id": "f22e5fa0",
   "metadata": {},
   "outputs": [
    {
     "data": {
      "text/plain": [
       "<25000x92331 sparse matrix of type '<class 'numpy.int64'>'\n",
       "\twith 2438710 stored elements in Compressed Sparse Row format>"
      ]
     },
     "execution_count": 51,
     "metadata": {},
     "output_type": "execute_result"
    }
   ],
   "source": [
    "# create bag of words\n",
    "count = CountVectorizer()\n",
    "bag_of_words = count.fit_transform(cleaned)\n",
    "# make sure it's same number of rows as original df\n",
    "bag_of_words"
   ]
  },
  {
   "cell_type": "code",
   "execution_count": 52,
   "id": "2d78b7cc",
   "metadata": {},
   "outputs": [
    {
     "data": {
      "text/plain": [
       "<25000x92331 sparse matrix of type '<class 'numpy.float64'>'\n",
       "\twith 2438710 stored elements in Compressed Sparse Row format>"
      ]
     },
     "execution_count": 52,
     "metadata": {},
     "output_type": "execute_result"
    }
   ],
   "source": [
    "# make tf-idf\n",
    "tfidf = TfidfVectorizer()\n",
    "feature_matrix = tfidf.fit_transform(cleaned)\n",
    "feature_matrix"
   ]
  }
 ],
 "metadata": {
  "kernelspec": {
   "display_name": "Python 3 (ipykernel)",
   "language": "python",
   "name": "python3"
  },
  "language_info": {
   "codemirror_mode": {
    "name": "ipython",
    "version": 3
   },
   "file_extension": ".py",
   "mimetype": "text/x-python",
   "name": "python",
   "nbconvert_exporter": "python",
   "pygments_lexer": "ipython3",
   "version": "3.10.11"
  }
 },
 "nbformat": 4,
 "nbformat_minor": 5
}
