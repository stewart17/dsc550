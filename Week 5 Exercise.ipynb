{
 "cells": [
  {
   "cell_type": "markdown",
   "id": "c2197c35",
   "metadata": {},
   "source": [
    "# Week 5 Exercise"
   ]
  },
  {
   "cell_type": "code",
   "execution_count": 1,
   "id": "ac0c89e9",
   "metadata": {},
   "outputs": [],
   "source": [
    "import pandas as pd\n",
    "import numpy as np\n",
    "import re\n",
    "import nltk\n",
    "import matplotlib.pyplot as plt\n",
    "from nltk.tokenize import word_tokenize\n",
    "from nltk.corpus import stopwords\n",
    "from nltk.stem.porter import PorterStemmer\n",
    "from sklearn.feature_extraction.text import CountVectorizer,TfidfVectorizer\n",
    "from sklearn.model_selection import train_test_split, cross_val_score\n",
    "from sklearn.linear_model import LogisticRegression\n",
    "from sklearn.preprocessing import StandardScaler\n",
    "from sklearn.metrics import accuracy_score, confusion_matrix, f1_score, precision_score, recall_score\n",
    "from sklearn.metrics import roc_curve, roc_auc_score\n",
    "from sklearn.ensemble import RandomForestClassifier"
   ]
  },
  {
   "cell_type": "code",
   "execution_count": 2,
   "id": "6b6f6726",
   "metadata": {},
   "outputs": [
    {
     "data": {
      "text/html": [
       "<div>\n",
       "<style scoped>\n",
       "    .dataframe tbody tr th:only-of-type {\n",
       "        vertical-align: middle;\n",
       "    }\n",
       "\n",
       "    .dataframe tbody tr th {\n",
       "        vertical-align: top;\n",
       "    }\n",
       "\n",
       "    .dataframe thead th {\n",
       "        text-align: right;\n",
       "    }\n",
       "</style>\n",
       "<table border=\"1\" class=\"dataframe\">\n",
       "  <thead>\n",
       "    <tr style=\"text-align: right;\">\n",
       "      <th></th>\n",
       "      <th>id</th>\n",
       "      <th>sentiment</th>\n",
       "      <th>review</th>\n",
       "    </tr>\n",
       "  </thead>\n",
       "  <tbody>\n",
       "    <tr>\n",
       "      <th>0</th>\n",
       "      <td>5814_8</td>\n",
       "      <td>1</td>\n",
       "      <td>With all this stuff going down at the moment w...</td>\n",
       "    </tr>\n",
       "    <tr>\n",
       "      <th>1</th>\n",
       "      <td>2381_9</td>\n",
       "      <td>1</td>\n",
       "      <td>\\The Classic War of the Worlds\\\" by Timothy Hi...</td>\n",
       "    </tr>\n",
       "    <tr>\n",
       "      <th>2</th>\n",
       "      <td>7759_3</td>\n",
       "      <td>0</td>\n",
       "      <td>The film starts with a manager (Nicholas Bell)...</td>\n",
       "    </tr>\n",
       "    <tr>\n",
       "      <th>3</th>\n",
       "      <td>3630_4</td>\n",
       "      <td>0</td>\n",
       "      <td>It must be assumed that those who praised this...</td>\n",
       "    </tr>\n",
       "    <tr>\n",
       "      <th>4</th>\n",
       "      <td>9495_8</td>\n",
       "      <td>1</td>\n",
       "      <td>Superbly trashy and wondrously unpretentious 8...</td>\n",
       "    </tr>\n",
       "  </tbody>\n",
       "</table>\n",
       "</div>"
      ],
      "text/plain": [
       "       id  sentiment                                             review\n",
       "0  5814_8          1  With all this stuff going down at the moment w...\n",
       "1  2381_9          1  \\The Classic War of the Worlds\\\" by Timothy Hi...\n",
       "2  7759_3          0  The film starts with a manager (Nicholas Bell)...\n",
       "3  3630_4          0  It must be assumed that those who praised this...\n",
       "4  9495_8          1  Superbly trashy and wondrously unpretentious 8..."
      ]
     },
     "execution_count": 2,
     "metadata": {},
     "output_type": "execute_result"
    }
   ],
   "source": [
    "# file location\n",
    "file_name = \"labeledTrainData.tsv\"\n",
    "# importing reviews file\n",
    "reviews = pd.read_csv(file_name, sep=\"\\t\")\n",
    "reviews.head()"
   ]
  },
  {
   "cell_type": "code",
   "execution_count": 3,
   "id": "549b23be",
   "metadata": {},
   "outputs": [],
   "source": [
    "def clean_reviews(reviews):\n",
    "    \"\"\"prepares series of text data for sentiment analysis by:\n",
    "       converting to lowercase, removing punctuation & special characters, \n",
    "       removing stop words, and stemming words. Joins tokenized words together \n",
    "       at the end for use with Vectorizers\"\"\"\n",
    "    # convert all text to lowercase\n",
    "    lowercase = reviews.str.lower()\n",
    "    # remove punctuation and special characters\n",
    "    clean = [re.sub('[^A-Za-z0-9 ]+', '', review) for review in lowercase]\n",
    "    # english stop words\n",
    "    stop_words = stopwords.words(\"english\")\n",
    "    # tokenize review into words\n",
    "    token_clean = [word_tokenize(review) for review in clean]\n",
    "    # remove stop words\n",
    "    cleaner = [[word for word in review if word not in stop_words ] for review in token_clean]\n",
    "    # stem words\n",
    "    porter = PorterStemmer()\n",
    "    stemmed = [[porter.stem(word) for word in review] for review in cleaner]\n",
    "    # join words back together\n",
    "    cleaned = [\" \".join(review) for review in stemmed]\n",
    "    return cleaned"
   ]
  },
  {
   "cell_type": "code",
   "execution_count": 4,
   "id": "5d66ab4f",
   "metadata": {},
   "outputs": [],
   "source": [
    "# create cleaned reviews for use with bag of words & tfidf\n",
    "cleaned = clean_reviews(reviews.review)"
   ]
  },
  {
   "cell_type": "code",
   "execution_count": 5,
   "id": "ae29f66b",
   "metadata": {},
   "outputs": [],
   "source": [
    "# put processed reviews into data frame\n",
    "reviews[\"reviews_processed\"] = cleaned"
   ]
  },
  {
   "cell_type": "code",
   "execution_count": 6,
   "id": "49d2d02c",
   "metadata": {},
   "outputs": [],
   "source": [
    "# set features and target\n",
    "features = reviews.reviews_processed\n",
    "target = reviews.sentiment"
   ]
  },
  {
   "cell_type": "code",
   "execution_count": 7,
   "id": "dbdeb9cf",
   "metadata": {},
   "outputs": [],
   "source": [
    "# split data\n",
    "feat_train, feat_test, target_train, target_test = train_test_split(\n",
    "    features, target, test_size=.2, random_state=1)"
   ]
  },
  {
   "cell_type": "code",
   "execution_count": 8,
   "id": "2646c919",
   "metadata": {},
   "outputs": [],
   "source": [
    "# create tf-idf\n",
    "tfidf = TfidfVectorizer()\n",
    "# fit and transform train set\n",
    "feature_matrix_train = tfidf.fit_transform(feat_train)\n",
    "# transform but don't fit test set\n",
    "feature_matrix_test = tfidf.transform(feat_test)"
   ]
  },
  {
   "cell_type": "markdown",
   "id": "9bd9b8ce",
   "metadata": {},
   "source": [
    "### Logistic Regression Model"
   ]
  },
  {
   "cell_type": "code",
   "execution_count": 9,
   "id": "0ef35195",
   "metadata": {},
   "outputs": [],
   "source": [
    "# train logistic regression on the training data\n",
    "logistic_regression = LogisticRegression(random_state=0)\n",
    "model = logistic_regression.fit(feature_matrix_train, target_train)"
   ]
  },
  {
   "cell_type": "code",
   "execution_count": 10,
   "id": "42ca331f",
   "metadata": {},
   "outputs": [],
   "source": [
    "# predict with test set\n",
    "predictions = model.predict(feature_matrix_test)"
   ]
  },
  {
   "cell_type": "code",
   "execution_count": 11,
   "id": "366cf2a2",
   "metadata": {},
   "outputs": [
    {
     "data": {
      "text/plain": [
       "0.886"
      ]
     },
     "execution_count": 11,
     "metadata": {},
     "output_type": "execute_result"
    }
   ],
   "source": [
    "# find accuracy of model\n",
    "acc = accuracy_score(target_test, predictions)\n",
    "acc"
   ]
  },
  {
   "cell_type": "code",
   "execution_count": 12,
   "id": "b1c3d447",
   "metadata": {},
   "outputs": [
    {
     "data": {
      "text/plain": [
       "array([[2188,  315],\n",
       "       [ 255, 2242]], dtype=int64)"
      ]
     },
     "execution_count": 12,
     "metadata": {},
     "output_type": "execute_result"
    }
   ],
   "source": [
    "# make confusion matrix for test set predictions\n",
    "conf_mat = confusion_matrix(target_test, predictions)\n",
    "conf_mat"
   ]
  },
  {
   "cell_type": "code",
   "execution_count": 13,
   "id": "eb1aa5cb",
   "metadata": {},
   "outputs": [
    {
     "name": "stdout",
     "output_type": "stream",
     "text": [
      "F1 Score: 0.887218045112782\n",
      "Recall Score: 0.8978774529435323\n",
      "Precision Score: 0.8768087602659367\n"
     ]
    }
   ],
   "source": [
    "# find f1, recall, and precision\n",
    "f1 = f1_score(target_test, predictions)\n",
    "recall = recall_score(target_test, predictions)\n",
    "precision = precision_score(target_test, predictions)\n",
    "print(f\"F1 Score: {f1}\\nRecall Score: {recall}\\nPrecision Score: {precision}\")"
   ]
  },
  {
   "cell_type": "code",
   "execution_count": 14,
   "id": "1fd53401",
   "metadata": {},
   "outputs": [],
   "source": [
    "# predicted probabilities\n",
    "target_prob = model.predict_proba(feature_matrix_test)[:, 1]\n",
    "# true/false pos rates\n",
    "fp_rate, tp_rate, treshold = roc_curve(target_test, target_prob)"
   ]
  },
  {
   "cell_type": "code",
   "execution_count": 15,
   "id": "2c2384b0",
   "metadata": {},
   "outputs": [
    {
     "data": {
      "image/png": "[encoded data removed]",
      "text/plain": [
       "<Figure size 432x288 with 1 Axes>"
      ]
     },
     "metadata": {
      "needs_background": "light"
     },
     "output_type": "display_data"
    }
   ],
   "source": [
    "# plotting ROC curve\n",
    "plt.title(\"ROC Curve\")\n",
    "plt.plot(fp_rate, tp_rate)\n",
    "plt.ylabel(\"True Positive Rate\"), plt.xlabel(\"False Positive Rate\")\n",
    "plt.show()"
   ]
  },
  {
   "cell_type": "markdown",
   "id": "1d0d933f",
   "metadata": {},
   "source": [
    "### Random Forest Classifier"
   ]
  },
  {
   "cell_type": "code",
   "execution_count": 17,
   "id": "61c66890",
   "metadata": {},
   "outputs": [],
   "source": [
    "# random forest classifier\n",
    "randomforest = RandomForestClassifier(random_state=0, n_jobs=-1)\n",
    "model_forest = randomforest.fit(feature_matrix_train, target_train)"
   ]
  },
  {
   "cell_type": "code",
   "execution_count": 18,
   "id": "e9ac792f",
   "metadata": {},
   "outputs": [],
   "source": [
    "# make predictions\n",
    "predictions_forest = model_forest.predict(feature_matrix_test)"
   ]
  },
  {
   "cell_type": "code",
   "execution_count": 19,
   "id": "a91b6d45",
   "metadata": {},
   "outputs": [
    {
     "data": {
      "text/plain": [
       "0.8484"
      ]
     },
     "execution_count": 19,
     "metadata": {},
     "output_type": "execute_result"
    }
   ],
   "source": [
    "# accuracy of forest\n",
    "acc_forest = accuracy_score(target_test, predictions_forest)\n",
    "acc_forest"
   ]
  },
  {
   "cell_type": "code",
   "execution_count": 20,
   "id": "670371aa",
   "metadata": {},
   "outputs": [
    {
     "data": {
      "text/plain": [
       "array([[2144,  359],\n",
       "       [ 399, 2098]], dtype=int64)"
      ]
     },
     "execution_count": 20,
     "metadata": {},
     "output_type": "execute_result"
    }
   ],
   "source": [
    "# confusion matrix forest\n",
    "conf_mat_forest = confusion_matrix(target_test, predictions_forest)\n",
    "conf_mat_forest"
   ]
  },
  {
   "cell_type": "code",
   "execution_count": 23,
   "id": "3ce43000",
   "metadata": {},
   "outputs": [
    {
     "name": "stdout",
     "output_type": "stream",
     "text": [
      "F1 Score: 0.8469923294307631\n",
      "Recall Score: 0.8402082498998799\n",
      "Precision Score: 0.8538868538868539\n"
     ]
    }
   ],
   "source": [
    "# f1, precision, recall of RF\n",
    "f1_forest = f1_score(target_test, predictions_forest)\n",
    "recall_forest = recall_score(target_test, predictions_forest)\n",
    "precision_forest = precision_score(target_test, predictions_forest)\n",
    "print(f\"F1 Score: {f1_forest}\\nRecall Score: {recall_forest}\\nPrecision Score: {precision_forest}\")"
   ]
  },
  {
   "cell_type": "code",
   "execution_count": 21,
   "id": "37bdfa34",
   "metadata": {},
   "outputs": [],
   "source": [
    "# predicted probabilities\n",
    "target_prob_forest = model_forest.predict_proba(feature_matrix_test)[:, 1]\n",
    "# true/false pos rates\n",
    "fp_rate_forest, tp_rate_forest, treshold_forest = roc_curve(target_test, target_prob_forest)"
   ]
  },
  {
   "cell_type": "code",
   "execution_count": 22,
   "id": "518546fc",
   "metadata": {},
   "outputs": [
    {
     "data": {
      "image/png": "[encoded data removed]",
      "text/plain": [
       "<Figure size 432x288 with 1 Axes>"
      ]
     },
     "metadata": {
      "needs_background": "light"
     },
     "output_type": "display_data"
    }
   ],
   "source": [
    "# plotting ROC curve\n",
    "plt.title(\"ROC Curve\")\n",
    "plt.plot(fp_rate_forest, tp_rate_forest)\n",
    "plt.ylabel(\"True Positive Rate\"), plt.xlabel(\"False Positive Rate\")\n",
    "plt.show()"
   ]
  }
 ],
 "metadata": {
  "kernelspec": {
   "display_name": "Python 3 (ipykernel)",
   "language": "python",
   "name": "python3"
  },
  "language_info": {
   "codemirror_mode": {
    "name": "ipython",
    "version": 3
   },
   "file_extension": ".py",
   "mimetype": "text/x-python",
   "name": "python",
   "nbconvert_exporter": "python",
   "pygments_lexer": "ipython3",
   "version": "3.9.7"
  }
 },
 "nbformat": 4,
 "nbformat_minor": 5
}
