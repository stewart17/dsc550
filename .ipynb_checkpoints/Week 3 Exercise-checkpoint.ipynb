{
 "cells": [
  {
   "cell_type": "markdown",
   "id": "95e29436",
   "metadata": {},
   "source": [
    "# Week 3 Exercise"
   ]
  },
  {
   "cell_type": "code",
   "execution_count": 124,
   "id": "8c2f49ac",
   "metadata": {},
   "outputs": [],
   "source": [
    "import pandas as pd\n",
    "import numpy as np\n",
    "from textblob import TextBlob\n",
    "from pattern.en import sentiment\n",
    "import re\n",
    "import unicodedata"
   ]
  },
  {
   "cell_type": "markdown",
   "id": "aa685af5",
   "metadata": {},
   "source": [
    "## TextBlob Sentiment Analyzer"
   ]
  },
  {
   "cell_type": "code",
   "execution_count": 132,
   "id": "ac1a0c5b",
   "metadata": {
    "scrolled": true
   },
   "outputs": [
    {
     "name": "stdout",
     "output_type": "stream",
     "text": [
      "Available Themes: \n",
      "   chesterish\n",
      "   grade3\n",
      "   gruvboxd\n",
      "   gruvboxl\n",
      "   monokai\n",
      "   oceans16\n",
      "   onedork\n",
      "   solarizedd\n",
      "   solarizedl\n"
     ]
    }
   ],
   "source": [
    "!jt -l"
   ]
  },
  {
   "cell_type": "code",
   "execution_count": 135,
   "id": "500140fb",
   "metadata": {},
   "outputs": [],
   "source": [
    "!jt -t oceans16"
   ]
  },
  {
   "cell_type": "markdown",
   "id": "110e78a8",
   "metadata": {},
   "source": [
    "##### Importing Movie Review Data"
   ]
  },
  {
   "cell_type": "code",
   "execution_count": 5,
   "id": "4b4c8058",
   "metadata": {
    "scrolled": true
   },
   "outputs": [
    {
     "data": {
      "text/html": [
       "<div>\n",
       "<style scoped>\n",
       "    .dataframe tbody tr th:only-of-type {\n",
       "        vertical-align: middle;\n",
       "    }\n",
       "\n",
       "    .dataframe tbody tr th {\n",
       "        vertical-align: top;\n",
       "    }\n",
       "\n",
       "    .dataframe thead th {\n",
       "        text-align: right;\n",
       "    }\n",
       "</style>\n",
       "<table border=\"1\" class=\"dataframe\">\n",
       "  <thead>\n",
       "    <tr style=\"text-align: right;\">\n",
       "      <th></th>\n",
       "      <th>id</th>\n",
       "      <th>sentiment</th>\n",
       "      <th>review</th>\n",
       "    </tr>\n",
       "  </thead>\n",
       "  <tbody>\n",
       "    <tr>\n",
       "      <th>0</th>\n",
       "      <td>5814_8</td>\n",
       "      <td>1</td>\n",
       "      <td>With all this stuff going down at the moment w...</td>\n",
       "    </tr>\n",
       "    <tr>\n",
       "      <th>1</th>\n",
       "      <td>2381_9</td>\n",
       "      <td>1</td>\n",
       "      <td>\\The Classic War of the Worlds\\\" by Timothy Hi...</td>\n",
       "    </tr>\n",
       "    <tr>\n",
       "      <th>2</th>\n",
       "      <td>7759_3</td>\n",
       "      <td>0</td>\n",
       "      <td>The film starts with a manager (Nicholas Bell)...</td>\n",
       "    </tr>\n",
       "    <tr>\n",
       "      <th>3</th>\n",
       "      <td>3630_4</td>\n",
       "      <td>0</td>\n",
       "      <td>It must be assumed that those who praised this...</td>\n",
       "    </tr>\n",
       "    <tr>\n",
       "      <th>4</th>\n",
       "      <td>9495_8</td>\n",
       "      <td>1</td>\n",
       "      <td>Superbly trashy and wondrously unpretentious 8...</td>\n",
       "    </tr>\n",
       "  </tbody>\n",
       "</table>\n",
       "</div>"
      ],
      "text/plain": [
       "       id  sentiment                                             review\n",
       "0  5814_8          1  With all this stuff going down at the moment w...\n",
       "1  2381_9          1  \\The Classic War of the Worlds\\\" by Timothy Hi...\n",
       "2  7759_3          0  The film starts with a manager (Nicholas Bell)...\n",
       "3  3630_4          0  It must be assumed that those who praised this...\n",
       "4  9495_8          1  Superbly trashy and wondrously unpretentious 8..."
      ]
     },
     "execution_count": 5,
     "metadata": {},
     "output_type": "execute_result"
    }
   ],
   "source": [
    "# file location\n",
    "file_name = \"labeledTrainData.tsv\"\n",
    "# importing reviews file\n",
    "reviews = pd.read_csv(file_name, sep=\"\\t\")\n",
    "reviews.head()"
   ]
  },
  {
   "cell_type": "markdown",
   "id": "e048c7a9",
   "metadata": {},
   "source": [
    "##### How Many Positive/Negative Reviews?"
   ]
  },
  {
   "cell_type": "code",
   "execution_count": 97,
   "id": "43709ff5",
   "metadata": {
    "scrolled": true
   },
   "outputs": [
    {
     "name": "stdout",
     "output_type": "stream",
     "text": [
      "Number of positive reviews:12500\n",
      "Number of negative reviews:12500\n"
     ]
    }
   ],
   "source": [
    "# find how many positive and negative reviews there are\n",
    "positive = reviews[reviews[\"sentiment\"] == 1].shape[0]\n",
    "negative = reviews[reviews[\"sentiment\"] == 0].shape[0]\n",
    "# print out num of positive/negative reviews\n",
    "print(f\"Number of positive reviews:{positive}\\n\"\n",
    "      f\"Number of negative reviews:{negative}\")"
   ]
  },
  {
   "cell_type": "markdown",
   "id": "7d43d240",
   "metadata": {},
   "source": [
    "##### TextBlob Sentiment Classification"
   ]
  },
  {
   "cell_type": "code",
   "execution_count": 89,
   "id": "dcb32760",
   "metadata": {},
   "outputs": [],
   "source": [
    "# TextBlob classification\n",
    "sentiments = []\n",
    "# loops through reviews and do sentiment analysis on each\n",
    "for review in reviews.review:\n",
    "    # create textblob of review\n",
    "    review_tb = TextBlob(review)\n",
    "    # if polarity greater/equal to 0 then positive review\n",
    "    if review_tb.sentiment.polarity >= 0:\n",
    "        sentiments.append(1)\n",
    "    else:\n",
    "        sentiments.append(0)"
   ]
  },
  {
   "cell_type": "code",
   "execution_count": 96,
   "id": "e37b03b8",
   "metadata": {
    "scrolled": true
   },
   "outputs": [
    {
     "name": "stdout",
     "output_type": "stream",
     "text": [
      "Number of positive reviews:19017\n",
      "Number of negative reviews:5983\n"
     ]
    }
   ],
   "source": [
    "# add textblob sentiments to df\n",
    "reviews[\"sentiment_tb\"] = sentiments\n",
    "# find how many positive and negative reviews there are\n",
    "positive2 = reviews[reviews[\"sentiment_tb\"] == 1].shape[0]\n",
    "negative2 = reviews[reviews[\"sentiment_tb\"] == 0].shape[0]\n",
    "# print out num of positive/negative reviews\n",
    "print(f\"Number of positive reviews:{positive2}\\n\"\n",
    "      f\"Number of negative reviews:{negative2}\")"
   ]
  },
  {
   "cell_type": "markdown",
   "id": "517ce1bc",
   "metadata": {},
   "source": [
    "##### Accuracy of TextBlob Model"
   ]
  },
  {
   "cell_type": "code",
   "execution_count": 99,
   "id": "1ced80a9",
   "metadata": {},
   "outputs": [
    {
     "name": "stdout",
     "output_type": "stream",
     "text": [
      "Accuracy of TextBlob Sentiments: 68.524%\n"
     ]
    }
   ],
   "source": [
    "# calculate number of correct textblob sentiments\n",
    "correct = reviews[reviews[\"sentiment\"] == reviews[\"sentiment_tb\"]].shape[0]\n",
    "# calclulate accuracy as number of correct guesses / total data\n",
    "accuracy = correct / reviews.shape[0]\n",
    "print(f\"Accuracy of TextBlob Sentiments: {accuracy * 100}%\")"
   ]
  },
  {
   "cell_type": "markdown",
   "id": "8c4daab4",
   "metadata": {},
   "source": [
    "##### Extra Credit Sentiment Analysis Using Pattern."
   ]
  },
  {
   "cell_type": "code",
   "execution_count": 88,
   "id": "fc177b52",
   "metadata": {},
   "outputs": [],
   "source": [
    "# Pattern classification\n",
    "sentiments2 = []\n",
    "# loops through reviews and do sentiment analysis on each\n",
    "for review in reviews.review:\n",
    "    # create textblob of review\n",
    "    sent = sentiment(review)\n",
    "    # if polarity greater/equal to 0 then positive review\n",
    "    if sent[0] >= 0:\n",
    "        sentiments2.append(1)\n",
    "    else:\n",
    "        sentiments2.append(0)"
   ]
  },
  {
   "cell_type": "code",
   "execution_count": 95,
   "id": "61dccf6d",
   "metadata": {},
   "outputs": [
    {
     "name": "stdout",
     "output_type": "stream",
     "text": [
      "Number of positive reviews:18918\n",
      "Number of negative reviews:6082\n"
     ]
    }
   ],
   "source": [
    "# add pattern sentiments to df\n",
    "reviews[\"sentiment_pat\"] = sentiments2\n",
    "# find how many positive and negative reviews there are\n",
    "positive3 = reviews[reviews[\"sentiment_pat\"] == 1].shape[0]\n",
    "negative3 = reviews[reviews[\"sentiment_pat\"] == 0].shape[0]\n",
    "# print out num of positive/negative reviews\n",
    "print(f\"Number of positive reviews:{positive3}\\n\"\n",
    "      f\"Number of negative reviews:{negative3}\")"
   ]
  },
  {
   "cell_type": "markdown",
   "id": "e59fd43a",
   "metadata": {},
   "source": [
    "###### Accuracy of Pattern Model"
   ]
  },
  {
   "cell_type": "code",
   "execution_count": 101,
   "id": "dc217038",
   "metadata": {},
   "outputs": [
    {
     "name": "stdout",
     "output_type": "stream",
     "text": [
      "Accuracy of Pattern Sentiments: 68.848%\n"
     ]
    }
   ],
   "source": [
    "# calculate number of correct patttern sentiments\n",
    "correct2 = reviews[reviews[\"sentiment\"] == reviews[\"sentiment_pat\"]].shape[0]\n",
    "# calclulate accuracy as number of correct guesses / total data\n",
    "accuracy2 = correct2 / reviews.shape[0]\n",
    "print(f\"Accuracy of Pattern Sentiments: {accuracy2 * 100}%\")"
   ]
  },
  {
   "cell_type": "markdown",
   "id": "8eb1ff5d",
   "metadata": {},
   "source": [
    "## Prepping Text for a Custom Model"
   ]
  },
  {
   "cell_type": "code",
   "execution_count": 109,
   "id": "c4eaa0f0",
   "metadata": {},
   "outputs": [],
   "source": [
    "#  convert all text to lowercase\n",
    "lowercase = reviews.review.str.lower()"
   ]
  },
  {
   "cell_type": "code",
   "execution_count": 123,
   "id": "bab8ee41",
   "metadata": {
    "scrolled": true
   },
   "outputs": [
    {
     "ename": "SyntaxError",
     "evalue": "invalid syntax (Temp/ipykernel_16800/2468734052.py, line 2)",
     "output_type": "error",
     "traceback": [
      "\u001b[1;36m  File \u001b[1;32m\"C:\\Users\\Stewart\\AppData\\Local\\Temp/ipykernel_16800/2468734052.py\"\u001b[1;36m, line \u001b[1;32m2\u001b[0m\n\u001b[1;33m    punct_and_spec = dict.fromkeys([^A-Za-z0-9]+)\u001b[0m\n\u001b[1;37m                                    ^\u001b[0m\n\u001b[1;31mSyntaxError\u001b[0m\u001b[1;31m:\u001b[0m invalid syntax\n"
     ]
    }
   ],
   "source": [
    "# removing punctuation and special characters\n",
    "punct_and_spec = dict.fromkeys([^A-Za-z0-9]+)\n",
    "for review in reviews.review:\n",
    "    clean.append(re.sub())"
   ]
  }
 ],
 "metadata": {
  "kernelspec": {
   "display_name": "Python 3 (ipykernel)",
   "language": "python",
   "name": "python3"
  },
  "language_info": {
   "codemirror_mode": {
    "name": "ipython",
    "version": 3
   },
   "file_extension": ".py",
   "mimetype": "text/x-python",
   "name": "python",
   "nbconvert_exporter": "python",
   "pygments_lexer": "ipython3",
   "version": "3.9.7"
  }
 },
 "nbformat": 4,
 "nbformat_minor": 5
}
